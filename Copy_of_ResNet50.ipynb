{
  "cells": [
    {
      "cell_type": "code",
      "execution_count": null,
      "metadata": {
        "id": "CEX1KgEI0m7-"
      },
      "outputs": [],
      "source": [
        "\n",
        "\n",
        "# --- Webcam capture helper for Colab ---\n",
        "from IPython.display import display, Javascript\n",
        "from google.colab.output import eval_js\n",
        "import cv2\n",
        "import numpy as np\n",
        "import base64\n",
        "\n"
      ]
    },
    {
      "cell_type": "code",
      "execution_count": null,
      "metadata": {
        "id": "l5Qw7PoY0nHU"
      },
      "outputs": [],
      "source": []
    },
    {
      "cell_type": "code",
      "source": [],
      "metadata": {
        "id": "cv1uFzNgtf4y"
      },
      "execution_count": null,
      "outputs": []
    },
    {
      "cell_type": "code",
      "source": [],
      "metadata": {
        "id": "G-mkM4LQtf7w"
      },
      "execution_count": null,
      "outputs": []
    },
    {
      "cell_type": "code",
      "source": [],
      "metadata": {
        "id": "Tup0HAfltf-3"
      },
      "execution_count": null,
      "outputs": []
    },
    {
      "cell_type": "code",
      "source": [],
      "metadata": {
        "id": "h4kMQCuZtgBs"
      },
      "execution_count": null,
      "outputs": []
    },
    {
      "cell_type": "markdown",
      "metadata": {
        "id": "cZVX6EtQ9mhv"
      },
      "source": [
        "ANOTHER TEST"
      ]
    },
    {
      "cell_type": "code",
      "execution_count": null,
      "metadata": {
        "colab": {
          "base_uri": "https://localhost:8080/",
          "height": 966
        },
        "id": "zGZBs0_ycSNO",
        "outputId": "038dd5b8-89da-4daa-959a-b9208da46604"
      },
      "outputs": [
        {
          "output_type": "stream",
          "name": "stdout",
          "text": [
            "Requirement already satisfied: opencv-python in /usr/local/lib/python3.12/dist-packages (4.12.0.88)\n",
            "Collecting mediapipe\n",
            "  Downloading mediapipe-0.10.21-cp312-cp312-manylinux_2_28_x86_64.whl.metadata (9.7 kB)\n",
            "Requirement already satisfied: numpy in /usr/local/lib/python3.12/dist-packages (2.0.2)\n",
            "Requirement already satisfied: absl-py in /usr/local/lib/python3.12/dist-packages (from mediapipe) (1.4.0)\n",
            "Requirement already satisfied: attrs>=19.1.0 in /usr/local/lib/python3.12/dist-packages (from mediapipe) (25.3.0)\n",
            "Requirement already satisfied: flatbuffers>=2.0 in /usr/local/lib/python3.12/dist-packages (from mediapipe) (25.2.10)\n",
            "Requirement already satisfied: jax in /usr/local/lib/python3.12/dist-packages (from mediapipe) (0.5.3)\n",
            "Requirement already satisfied: jaxlib in /usr/local/lib/python3.12/dist-packages (from mediapipe) (0.5.3)\n",
            "Requirement already satisfied: matplotlib in /usr/local/lib/python3.12/dist-packages (from mediapipe) (3.10.0)\n",
            "INFO: pip is looking at multiple versions of mediapipe to determine which version is compatible with other requirements. This could take a while.\n",
            "  Downloading mediapipe-0.10.20-cp312-cp312-manylinux_2_28_x86_64.whl.metadata (9.7 kB)\n",
            "  Downloading mediapipe-0.10.18-cp312-cp312-manylinux_2_17_x86_64.manylinux2014_x86_64.whl.metadata (9.7 kB)\n",
            "  Downloading mediapipe-0.10.15-cp312-cp312-manylinux_2_17_x86_64.manylinux2014_x86_64.whl.metadata (9.7 kB)\n",
            "  Downloading mediapipe-0.10.14-cp312-cp312-manylinux_2_17_x86_64.manylinux2014_x86_64.whl.metadata (9.7 kB)\n",
            "Requirement already satisfied: opencv-contrib-python in /usr/local/lib/python3.12/dist-packages (from mediapipe) (4.12.0.88)\n",
            "Collecting protobuf<5,>=4.25.3 (from mediapipe)\n",
            "  Downloading protobuf-4.25.8-cp37-abi3-manylinux2014_x86_64.whl.metadata (541 bytes)\n",
            "Collecting sounddevice>=0.4.4 (from mediapipe)\n",
            "  Downloading sounddevice-0.5.2-py3-none-any.whl.metadata (1.6 kB)\n",
            "Requirement already satisfied: CFFI>=1.0 in /usr/local/lib/python3.12/dist-packages (from sounddevice>=0.4.4->mediapipe) (1.17.1)\n",
            "Requirement already satisfied: ml_dtypes>=0.4.0 in /usr/local/lib/python3.12/dist-packages (from jax->mediapipe) (0.5.3)\n",
            "Requirement already satisfied: opt_einsum in /usr/local/lib/python3.12/dist-packages (from jax->mediapipe) (3.4.0)\n",
            "Requirement already satisfied: scipy>=1.11.1 in /usr/local/lib/python3.12/dist-packages (from jax->mediapipe) (1.16.1)\n",
            "Requirement already satisfied: contourpy>=1.0.1 in /usr/local/lib/python3.12/dist-packages (from matplotlib->mediapipe) (1.3.3)\n",
            "Requirement already satisfied: cycler>=0.10 in /usr/local/lib/python3.12/dist-packages (from matplotlib->mediapipe) (0.12.1)\n",
            "Requirement already satisfied: fonttools>=4.22.0 in /usr/local/lib/python3.12/dist-packages (from matplotlib->mediapipe) (4.59.2)\n",
            "Requirement already satisfied: kiwisolver>=1.3.1 in /usr/local/lib/python3.12/dist-packages (from matplotlib->mediapipe) (1.4.9)\n",
            "Requirement already satisfied: packaging>=20.0 in /usr/local/lib/python3.12/dist-packages (from matplotlib->mediapipe) (25.0)\n",
            "Requirement already satisfied: pillow>=8 in /usr/local/lib/python3.12/dist-packages (from matplotlib->mediapipe) (11.3.0)\n",
            "Requirement already satisfied: pyparsing>=2.3.1 in /usr/local/lib/python3.12/dist-packages (from matplotlib->mediapipe) (3.2.3)\n",
            "Requirement already satisfied: python-dateutil>=2.7 in /usr/local/lib/python3.12/dist-packages (from matplotlib->mediapipe) (2.9.0.post0)\n",
            "Requirement already satisfied: pycparser in /usr/local/lib/python3.12/dist-packages (from CFFI>=1.0->sounddevice>=0.4.4->mediapipe) (2.22)\n",
            "Requirement already satisfied: six>=1.5 in /usr/local/lib/python3.12/dist-packages (from python-dateutil>=2.7->matplotlib->mediapipe) (1.17.0)\n",
            "Downloading mediapipe-0.10.14-cp312-cp312-manylinux_2_17_x86_64.manylinux2014_x86_64.whl (35.7 MB)\n",
            "\u001b[2K   \u001b[90m━━━━━━━━━━━━━━━━━━━━━━━━━━━━━━━━━━━━━━━━\u001b[0m \u001b[32m35.7/35.7 MB\u001b[0m \u001b[31m49.9 MB/s\u001b[0m eta \u001b[36m0:00:00\u001b[0m\n",
            "\u001b[?25hDownloading protobuf-4.25.8-cp37-abi3-manylinux2014_x86_64.whl (294 kB)\n",
            "\u001b[2K   \u001b[90m━━━━━━━━━━━━━━━━━━━━━━━━━━━━━━━━━━━━━━━━\u001b[0m \u001b[32m294.9/294.9 kB\u001b[0m \u001b[31m24.9 MB/s\u001b[0m eta \u001b[36m0:00:00\u001b[0m\n",
            "\u001b[?25hDownloading sounddevice-0.5.2-py3-none-any.whl (32 kB)\n",
            "Installing collected packages: protobuf, sounddevice, mediapipe\n",
            "  Attempting uninstall: protobuf\n",
            "    Found existing installation: protobuf 5.29.5\n",
            "    Uninstalling protobuf-5.29.5:\n",
            "      Successfully uninstalled protobuf-5.29.5\n",
            "\u001b[31mERROR: pip's dependency resolver does not currently take into account all the packages that are installed. This behaviour is the source of the following dependency conflicts.\n",
            "grpcio-status 1.71.2 requires protobuf<6.0dev,>=5.26.1, but you have protobuf 4.25.8 which is incompatible.\n",
            "ydf 0.13.0 requires protobuf<7.0.0,>=5.29.1, but you have protobuf 4.25.8 which is incompatible.\u001b[0m\u001b[31m\n",
            "\u001b[0mSuccessfully installed mediapipe-0.10.14 protobuf-4.25.8 sounddevice-0.5.2\n"
          ]
        },
        {
          "output_type": "display_data",
          "data": {
            "application/vnd.colab-display-data+json": {
              "pip_warning": {
                "packages": [
                  "google"
                ]
              },
              "id": "45226767e02e4d6888cbfd971d8179ed"
            }
          },
          "metadata": {}
        }
      ],
      "source": [
        "!pip install opencv-python mediapipe numpy\n"
      ]
    },
    {
      "cell_type": "markdown",
      "metadata": {
        "id": "elUcIy2QVf3p"
      },
      "source": [
        "# Fcial Detection working greatly"
      ]
    },
    {
      "cell_type": "code",
      "execution_count": null,
      "metadata": {
        "id": "TerrEsSNHu3F"
      },
      "outputs": [],
      "source": []
    },
    {
      "cell_type": "code",
      "execution_count": null,
      "metadata": {
        "id": "UW_0IvU-Hu6g"
      },
      "outputs": [],
      "source": []
    },
    {
      "cell_type": "code",
      "execution_count": null,
      "metadata": {
        "id": "ofTcLuSy9zPG"
      },
      "outputs": [],
      "source": []
    },
    {
      "cell_type": "markdown",
      "source": [
        "new approach"
      ],
      "metadata": {
        "id": "NbO5RD6qax6c"
      }
    },
    {
      "cell_type": "code",
      "execution_count": null,
      "metadata": {
        "id": "kJWX5h149zSZ",
        "colab": {
          "base_uri": "https://localhost:8080/"
        },
        "outputId": "3a67e7ba-dd5d-41a3-bd52-2db48c53c315"
      },
      "outputs": [
        {
          "output_type": "stream",
          "name": "stdout",
          "text": [
            "Extracted 1153 frames to dataset/raw_frames\n"
          ]
        }
      ],
      "source": [
        "import cv2\n",
        "import os\n",
        "\n",
        "video_path = \"/content/Himanshu_New_Dataset.mp4\"\n",
        "output_dir = \"dataset/raw_frames\"\n",
        "os.makedirs(output_dir, exist_ok=True)\n",
        "\n",
        "cap = cv2.VideoCapture(video_path)\n",
        "frame_count = 0\n",
        "\n",
        "while cap.isOpened():\n",
        "    ret, frame = cap.read()\n",
        "    if not ret:\n",
        "        break\n",
        "\n",
        "    frame_filename = os.path.join(output_dir, f\"frame_{frame_count:05d}.jpg\")\n",
        "    cv2.imwrite(frame_filename, frame)\n",
        "    frame_count += 1\n",
        "\n",
        "cap.release()\n",
        "print(f\"Extracted {frame_count} frames to {output_dir}\")\n"
      ]
    },
    {
      "cell_type": "code",
      "execution_count": null,
      "metadata": {
        "id": "xt66TO2xcSTp"
      },
      "outputs": [],
      "source": [
        "import cv2\n",
        "import numpy as np\n",
        "import mediapipe as mp\n",
        "import tensorflow as tf\n",
        "from tensorflow.keras.applications import MobileNetV2\n",
        "from tensorflow.keras.models import Model\n",
        "from tensorflow.keras.layers import Dense, GlobalAveragePooling2D, Dropout\n",
        "from tensorflow.keras.optimizers import Adam\n",
        "\n",
        "mp_face_mesh = mp.solutions.face_mesh\n"
      ]
    },
    {
      "cell_type": "code",
      "execution_count": null,
      "metadata": {
        "id": "T-wMxlixcSZq"
      },
      "outputs": [],
      "source": [
        "def eye_aspect_ratio(landmarks, left_indices, right_indices):\n",
        "    # EAR for one eye\n",
        "    def single_eye(eye_indices):\n",
        "        p1, p2, p3, p4, p5, p6 = [landmarks[i] for i in eye_indices]\n",
        "        A = np.linalg.norm(p2 - p6)\n",
        "        B = np.linalg.norm(p3 - p5)\n",
        "        C = np.linalg.norm(p1 - p4)\n",
        "        return (A + B) / (2.0 * C)\n",
        "\n",
        "    leftEAR = single_eye(left_indices)\n",
        "    rightEAR = single_eye(right_indices)\n",
        "    return (leftEAR + rightEAR) / 2.0\n",
        "\n",
        "def mouth_opening_ratio(landmarks, top, bottom, left, right):\n",
        "    A = np.linalg.norm(landmarks[top] - landmarks[bottom])  # vertical opening\n",
        "    C = np.linalg.norm(landmarks[left] - landmarks[right])  # horizontal width\n",
        "    return A / C\n",
        "\n",
        "def nose_length_ratio(landmarks, top, bottom, left, right):\n",
        "    A = np.linalg.norm(landmarks[top] - landmarks[bottom])  # vertical length\n",
        "    B = np.linalg.norm(landmarks[left] - landmarks[right])  # horizontal width\n",
        "    return A / B\n"
      ]
    },
    {
      "cell_type": "code",
      "source": [
        "# ---------------- Preprocessing -----------------\n",
        "def features_to_image(ear, mor, nlr, size=224):\n",
        "    ear_img = np.ones((size, size)) * ear\n",
        "    mor_img = np.ones((size, size)) * mor\n",
        "    nlr_img = np.ones((size, size)) * nlr\n",
        "    feature_img = np.stack([ear_img, mor_img, nlr_img], axis=-1)\n",
        "    feature_img = feature_img.astype(\"float32\")\n",
        "    return feature_img\n"
      ],
      "metadata": {
        "id": "1GxhjLO-iVIC"
      },
      "execution_count": null,
      "outputs": []
    },
    {
      "cell_type": "code",
      "source": [
        "import os\n",
        "video_path = \"/content/Himanshu_New_Dataset.mp4\"\n",
        "output_base = \"dataset\"\n",
        "\n",
        "for split in [\"train\", \"val\", \"test\"]:\n",
        "    for label in [\"drowsy\", \"alert\"]:\n",
        "        os.makedirs(os.path.join(output_base, split, label), exist_ok=True)\n"
      ],
      "metadata": {
        "id": "zlp0pkmSiVLI"
      },
      "execution_count": null,
      "outputs": []
    },
    {
      "cell_type": "code",
      "source": [
        "import cv2\n",
        "import mediapipe as mp\n",
        "import numpy as np\n",
        "import os\n",
        "\n",
        "# ---------------- Feature Functions ----------------\n",
        "def eye_aspect_ratio(eye):\n",
        "    A = np.linalg.norm(eye[1] - eye[5])\n",
        "    B = np.linalg.norm(eye[2] - eye[4])\n",
        "    C = np.linalg.norm(eye[0] - eye[3])\n",
        "    return (A + B) / (2.0 * C)\n",
        "\n",
        "def mouth_opening_ratio(mouth_points):\n",
        "    A = np.linalg.norm(mouth_points[0] - mouth_points[1])  # top-bottom\n",
        "    C = np.linalg.norm(mouth_points[2] - mouth_points[3])  # left-right\n",
        "    return A / C\n",
        "\n",
        "def nose_length_ratio(nose_points):\n",
        "    A = np.linalg.norm(nose_points[0] - nose_points[1])  # vertical\n",
        "    B = np.linalg.norm(nose_points[2] - nose_points[3])  # horizontal\n",
        "    return A / B\n",
        "\n",
        "# ---------------- MediaPipe Setup ----------------\n",
        "mp_face_mesh = mp.solutions.face_mesh\n",
        "face_mesh = mp_face_mesh.FaceMesh(static_image_mode=False, max_num_faces=1, refine_landmarks=True)\n",
        "\n",
        "cap = cv2.VideoCapture(video_path)\n",
        "frame_count = 0\n",
        "\n",
        "# Thresholds (tune as needed)\n",
        "EAR_THRESHOLD = 0.25\n",
        "MOR_THRESHOLD = 0.5\n",
        "NLR_THRESHOLD = 0.9\n",
        "\n",
        "# Landmark indices (MediaPipe FaceMesh)\n",
        "LEFT_EYE = [33, 160, 158, 133, 153, 144]\n",
        "RIGHT_EYE = [362, 385, 387, 263, 373, 380]\n",
        "MOUTH_TOP, MOUTH_BOTTOM, MOUTH_LEFT, MOUTH_RIGHT = 13, 14, 61, 291\n",
        "NOSE_TOP, NOSE_BOTTOM, NOSE_LEFT, NOSE_RIGHT = 168, 2, 102, 331\n",
        "\n",
        "while cap.isOpened():\n",
        "    ret, frame = cap.read()\n",
        "    if not ret:\n",
        "        break\n",
        "\n",
        "    rgb = cv2.cvtColor(frame, cv2.COLOR_BGR2RGB)\n",
        "    results = face_mesh.process(rgb)\n",
        "\n",
        "    label = \"alert\"\n",
        "    if results.multi_face_landmarks:\n",
        "        h, w, _ = frame.shape\n",
        "        mesh_points = np.array([[int(p.x * w), int(p.y * h)] for p in results.multi_face_landmarks[0].landmark])\n",
        "\n",
        "        # EAR\n",
        "        leftEAR = eye_aspect_ratio(mesh_points[LEFT_EYE])\n",
        "        rightEAR = eye_aspect_ratio(mesh_points[RIGHT_EYE])\n",
        "        ear = (leftEAR + rightEAR) / 2.0\n",
        "\n",
        "        # MOR\n",
        "        mor = mouth_opening_ratio([mesh_points[MOUTH_TOP], mesh_points[MOUTH_BOTTOM],\n",
        "                                   mesh_points[MOUTH_LEFT], mesh_points[MOUTH_RIGHT]])\n",
        "\n",
        "        # NLR\n",
        "        nlr = nose_length_ratio([mesh_points[NOSE_TOP], mesh_points[NOSE_BOTTOM],\n",
        "                                 mesh_points[NOSE_LEFT], mesh_points[NOSE_RIGHT]])\n",
        "\n",
        "        # Drowsiness condition (any feature below/above threshold)\n",
        "        if ear < EAR_THRESHOLD or mor > MOR_THRESHOLD or nlr < NLR_THRESHOLD:\n",
        "            label = \"drowsy\"\n",
        "\n",
        "    # Train/val/test split\n",
        "    split = \"train\"\n",
        "    if frame_count % 10 == 0:\n",
        "        split = \"val\"\n",
        "    elif frame_count % 20 == 0:\n",
        "        split = \"test\"\n",
        "\n",
        "    save_path = os.path.join(output_base, split, label, f\"frame_{frame_count:05d}.jpg\")\n",
        "    os.makedirs(os.path.dirname(save_path), exist_ok=True)\n",
        "    cv2.imwrite(save_path, frame)\n",
        "    frame_count += 1\n",
        "\n",
        "cap.release()\n",
        "face_mesh.close()\n",
        "print(f\"Processed {frame_count} frames into dataset with auto-labeling (EAR, MOR, NLR + MediaPipe)\")\n"
      ],
      "metadata": {
        "colab": {
          "base_uri": "https://localhost:8080/"
        },
        "id": "VsZ7XZ_uiVN7",
        "outputId": "e0f871f6-6190-4fd4-da2f-971a27b23a2a"
      },
      "execution_count": null,
      "outputs": [
        {
          "output_type": "stream",
          "name": "stderr",
          "text": [
            "/usr/local/lib/python3.12/dist-packages/google/protobuf/symbol_database.py:55: UserWarning: SymbolDatabase.GetPrototype() is deprecated. Please use message_factory.GetMessageClass() instead. SymbolDatabase.GetPrototype() will be removed soon.\n",
            "  warnings.warn('SymbolDatabase.GetPrototype() is deprecated. Please '\n"
          ]
        },
        {
          "output_type": "stream",
          "name": "stdout",
          "text": [
            "Processed 1153 frames into dataset with auto-labeling (EAR, MOR, NLR + MediaPipe)\n"
          ]
        }
      ]
    },
    {
      "cell_type": "code",
      "source": [
        "import tensorflow as tf\n",
        "from tensorflow.keras.preprocessing.image import ImageDataGenerator\n",
        "\n",
        "# Paths\n",
        "train_dir = \"/content/dataset/train\"\n",
        "val_dir   = \"/content/dataset/val\"\n",
        "\n",
        "\n",
        "# Image generators\n",
        "train_datagen = ImageDataGenerator(rescale=1./255, horizontal_flip=True, zoom_range=0.2)\n",
        "val_datagen   = ImageDataGenerator(rescale=1./255)\n",
        "\n",
        "\n",
        "train_gen = train_datagen.flow_from_directory(train_dir, target_size=(224,224), batch_size=32, class_mode=\"binary\")\n",
        "val_gen   = val_datagen.flow_from_directory(val_dir, target_size=(224,224), batch_size=32, class_mode=\"binary\")\n",
        "\n"
      ],
      "metadata": {
        "id": "R4VgFesliVQ1",
        "colab": {
          "base_uri": "https://localhost:8080/"
        },
        "outputId": "aed1bd12-92b7-4e5b-903a-55ce14a664df"
      },
      "execution_count": null,
      "outputs": [
        {
          "output_type": "stream",
          "name": "stdout",
          "text": [
            "Found 1037 images belonging to 2 classes.\n",
            "Found 116 images belonging to 2 classes.\n"
          ]
        }
      ]
    },
    {
      "cell_type": "code",
      "source": [
        "from tensorflow.keras.applications import ResNet50\n",
        "from tensorflow.keras import layers, models\n",
        "\n",
        "# Load pretrained ResNet50\n",
        "base_model = ResNet50(weights=\"imagenet\", include_top=False, input_shape=(224,224,3))\n",
        "base_model.trainable = False  # freeze base\n",
        "\n",
        "model = models.Sequential([\n",
        "    base_model,\n",
        "    layers.GlobalAveragePooling2D(),\n",
        "    layers.Dense(128, activation=\"relu\"),\n",
        "    layers.Dropout(0.5),\n",
        "    layers.Dense(1, activation=\"sigmoid\")  # binary output\n",
        "])\n",
        "\n",
        "model.compile(optimizer=\"adam\", loss=\"binary_crossentropy\", metrics=[\"accuracy\"])\n"
      ],
      "metadata": {
        "id": "UsWTTEo2iVTv",
        "colab": {
          "base_uri": "https://localhost:8080/"
        },
        "outputId": "72c2bf32-2ce2-4328-f8e6-bd193932664b"
      },
      "execution_count": null,
      "outputs": [
        {
          "output_type": "stream",
          "name": "stdout",
          "text": [
            "Downloading data from https://storage.googleapis.com/tensorflow/keras-applications/resnet/resnet50_weights_tf_dim_ordering_tf_kernels_notop.h5\n",
            "\u001b[1m94765736/94765736\u001b[0m \u001b[32m━━━━━━━━━━━━━━━━━━━━\u001b[0m\u001b[37m\u001b[0m \u001b[1m3s\u001b[0m 0us/step\n"
          ]
        }
      ]
    },
    {
      "cell_type": "code",
      "source": [
        "history = model.fit(\n",
        "    train_gen,\n",
        "    validation_data=val_gen,\n",
        "    epochs=10\n",
        ")\n"
      ],
      "metadata": {
        "id": "dpCYHH8ciVW2",
        "colab": {
          "base_uri": "https://localhost:8080/"
        },
        "outputId": "b7c10475-7097-41a3-cca6-61bb1ba1995f"
      },
      "execution_count": null,
      "outputs": [
        {
          "output_type": "stream",
          "name": "stderr",
          "text": [
            "/usr/local/lib/python3.12/dist-packages/keras/src/trainers/data_adapters/py_dataset_adapter.py:121: UserWarning: Your `PyDataset` class should call `super().__init__(**kwargs)` in its constructor. `**kwargs` can include `workers`, `use_multiprocessing`, `max_queue_size`. Do not pass these arguments to `fit()`, as they will be ignored.\n",
            "  self._warn_if_super_not_called()\n"
          ]
        },
        {
          "output_type": "stream",
          "name": "stdout",
          "text": [
            "Epoch 1/10\n",
            "\u001b[1m33/33\u001b[0m \u001b[32m━━━━━━━━━━━━━━━━━━━━\u001b[0m\u001b[37m\u001b[0m \u001b[1m42s\u001b[0m 836ms/step - accuracy: 0.5566 - loss: 0.7635 - val_accuracy: 0.6207 - val_loss: 0.6439\n",
            "Epoch 2/10\n",
            "\u001b[1m33/33\u001b[0m \u001b[32m━━━━━━━━━━━━━━━━━━━━\u001b[0m\u001b[37m\u001b[0m \u001b[1m15s\u001b[0m 453ms/step - accuracy: 0.5968 - loss: 0.6793 - val_accuracy: 0.6207 - val_loss: 0.6523\n",
            "Epoch 3/10\n",
            "\u001b[1m33/33\u001b[0m \u001b[32m━━━━━━━━━━━━━━━━━━━━\u001b[0m\u001b[37m\u001b[0m \u001b[1m15s\u001b[0m 449ms/step - accuracy: 0.5917 - loss: 0.6700 - val_accuracy: 0.6207 - val_loss: 0.6424\n",
            "Epoch 4/10\n",
            "\u001b[1m33/33\u001b[0m \u001b[32m━━━━━━━━━━━━━━━━━━━━\u001b[0m\u001b[37m\u001b[0m \u001b[1m14s\u001b[0m 438ms/step - accuracy: 0.6405 - loss: 0.6472 - val_accuracy: 0.6207 - val_loss: 0.6350\n",
            "Epoch 5/10\n",
            "\u001b[1m33/33\u001b[0m \u001b[32m━━━━━━━━━━━━━━━━━━━━\u001b[0m\u001b[37m\u001b[0m \u001b[1m14s\u001b[0m 436ms/step - accuracy: 0.6404 - loss: 0.6336 - val_accuracy: 0.6207 - val_loss: 0.6299\n",
            "Epoch 6/10\n",
            "\u001b[1m33/33\u001b[0m \u001b[32m━━━━━━━━━━━━━━━━━━━━\u001b[0m\u001b[37m\u001b[0m \u001b[1m15s\u001b[0m 441ms/step - accuracy: 0.6491 - loss: 0.6326 - val_accuracy: 0.7759 - val_loss: 0.6318\n",
            "Epoch 7/10\n",
            "\u001b[1m33/33\u001b[0m \u001b[32m━━━━━━━━━━━━━━━━━━━━\u001b[0m\u001b[37m\u001b[0m \u001b[1m14s\u001b[0m 436ms/step - accuracy: 0.6533 - loss: 0.6432 - val_accuracy: 0.6207 - val_loss: 0.6129\n",
            "Epoch 8/10\n",
            "\u001b[1m33/33\u001b[0m \u001b[32m━━━━━━━━━━━━━━━━━━━━\u001b[0m\u001b[37m\u001b[0m \u001b[1m15s\u001b[0m 458ms/step - accuracy: 0.6399 - loss: 0.6418 - val_accuracy: 0.6207 - val_loss: 0.6196\n",
            "Epoch 9/10\n",
            "\u001b[1m33/33\u001b[0m \u001b[32m━━━━━━━━━━━━━━━━━━━━\u001b[0m\u001b[37m\u001b[0m \u001b[1m20s\u001b[0m 438ms/step - accuracy: 0.6479 - loss: 0.6275 - val_accuracy: 0.7328 - val_loss: 0.6014\n",
            "Epoch 10/10\n",
            "\u001b[1m33/33\u001b[0m \u001b[32m━━━━━━━━━━━━━━━━━━━━\u001b[0m\u001b[37m\u001b[0m \u001b[1m15s\u001b[0m 443ms/step - accuracy: 0.6808 - loss: 0.6258 - val_accuracy: 0.6207 - val_loss: 0.6022\n"
          ]
        }
      ]
    },
    {
      "cell_type": "code",
      "source": [
        "test_loss, test_acc = model.evaluate(val_gen)\n",
        "print(f\"✅ Test Accuracy: {test_acc:.2f}\")\n"
      ],
      "metadata": {
        "id": "s0R8kiZniVZv",
        "colab": {
          "base_uri": "https://localhost:8080/"
        },
        "outputId": "91fe7788-377d-4d7c-f91f-342f59bbf0e3"
      },
      "execution_count": null,
      "outputs": [
        {
          "output_type": "stream",
          "name": "stdout",
          "text": [
            "\u001b[1m4/4\u001b[0m \u001b[32m━━━━━━━━━━━━━━━━━━━━\u001b[0m\u001b[37m\u001b[0m \u001b[1m1s\u001b[0m 96ms/step - accuracy: 0.6212 - loss: 0.5997\n",
            "✅ Test Accuracy: 0.62\n"
          ]
        }
      ]
    },
    {
      "cell_type": "code",
      "source": [],
      "metadata": {
        "id": "R7jJ2_uHiVcb"
      },
      "execution_count": null,
      "outputs": []
    },
    {
      "cell_type": "code",
      "source": [],
      "metadata": {
        "id": "wRNxbb0giVfs"
      },
      "execution_count": null,
      "outputs": []
    },
    {
      "cell_type": "code",
      "source": [],
      "metadata": {
        "id": "qTFCUafXtUGy"
      },
      "execution_count": null,
      "outputs": []
    },
    {
      "cell_type": "code",
      "source": [],
      "metadata": {
        "id": "hHXn0kSxtUJv"
      },
      "execution_count": null,
      "outputs": []
    },
    {
      "cell_type": "code",
      "source": [],
      "metadata": {
        "id": "4fiRo4IVtUM8"
      },
      "execution_count": null,
      "outputs": []
    },
    {
      "cell_type": "code",
      "source": [],
      "metadata": {
        "id": "hmJa0qvgtUQV"
      },
      "execution_count": null,
      "outputs": []
    },
    {
      "cell_type": "markdown",
      "source": [
        "Early Stopping"
      ],
      "metadata": {
        "id": "tU0UWww5tU0Z"
      }
    },
    {
      "cell_type": "code",
      "source": [],
      "metadata": {
        "id": "RSu48CLdiVmX"
      },
      "execution_count": null,
      "outputs": []
    },
    {
      "cell_type": "markdown",
      "source": [
        "graphs and metrics\n"
      ],
      "metadata": {
        "id": "GLL8g6WDvopK"
      }
    },
    {
      "cell_type": "code",
      "execution_count": null,
      "metadata": {
        "id": "0ACpG0facScw",
        "colab": {
          "base_uri": "https://localhost:8080/",
          "height": 1000
        },
        "outputId": "b4eada1b-b5fa-4cbe-eb41-f5588617e4a3"
      },
      "outputs": [
        {
          "output_type": "display_data",
          "data": {
            "text/plain": [
              "<Figure size 1200x500 with 2 Axes>"
            ],
            "image/png": "[encoded data removed]"
          },
          "metadata": {}
        },
        {
          "output_type": "stream",
          "name": "stdout",
          "text": [
            "\u001b[1m4/4\u001b[0m \u001b[32m━━━━━━━━━━━━━━━━━━━━\u001b[0m\u001b[37m\u001b[0m \u001b[1m9s\u001b[0m 1s/step\n"
          ]
        },
        {
          "output_type": "display_data",
          "data": {
            "text/plain": [
              "<Figure size 600x400 with 2 Axes>"
            ],
            "image/png": "[encoded data removed]"
          },
          "metadata": {}
        },
        {
          "output_type": "stream",
          "name": "stdout",
          "text": [
            "Classification Report:\n",
            "\n",
            "              precision    recall  f1-score   support\n",
            "\n",
            "       alert       0.00      0.00      0.00        44\n",
            "      drowsy       0.62      1.00      0.77        72\n",
            "\n",
            "    accuracy                           0.62       116\n",
            "   macro avg       0.31      0.50      0.38       116\n",
            "weighted avg       0.39      0.62      0.48       116\n",
            "\n"
          ]
        },
        {
          "output_type": "stream",
          "name": "stderr",
          "text": [
            "/usr/local/lib/python3.12/dist-packages/sklearn/metrics/_classification.py:1565: UndefinedMetricWarning: Precision is ill-defined and being set to 0.0 in labels with no predicted samples. Use `zero_division` parameter to control this behavior.\n",
            "  _warn_prf(average, modifier, f\"{metric.capitalize()} is\", len(result))\n",
            "/usr/local/lib/python3.12/dist-packages/sklearn/metrics/_classification.py:1565: UndefinedMetricWarning: Precision is ill-defined and being set to 0.0 in labels with no predicted samples. Use `zero_division` parameter to control this behavior.\n",
            "  _warn_prf(average, modifier, f\"{metric.capitalize()} is\", len(result))\n",
            "/usr/local/lib/python3.12/dist-packages/sklearn/metrics/_classification.py:1565: UndefinedMetricWarning: Precision is ill-defined and being set to 0.0 in labels with no predicted samples. Use `zero_division` parameter to control this behavior.\n",
            "  _warn_prf(average, modifier, f\"{metric.capitalize()} is\", len(result))\n"
          ]
        }
      ],
      "source": [
        "import matplotlib.pyplot as plt\n",
        "import numpy as np\n",
        "from sklearn.metrics import classification_report, confusion_matrix\n",
        "import seaborn as sns\n",
        "\n",
        "# =============================\n",
        "# 📊 Training Curves\n",
        "# =============================\n",
        "plt.figure(figsize=(12,5))\n",
        "\n",
        "# Accuracy\n",
        "plt.subplot(1,2,1)\n",
        "plt.plot(history.history['accuracy'], label='Train Accuracy')\n",
        "plt.plot(history.history['val_accuracy'], label='Val Accuracy')\n",
        "plt.xlabel('Epochs')\n",
        "plt.ylabel('Accuracy')\n",
        "plt.legend()\n",
        "plt.title('Model Accuracy')\n",
        "\n",
        "# Loss\n",
        "plt.subplot(1,2,2)\n",
        "plt.plot(history.history['loss'], label='Train Loss')\n",
        "plt.plot(history.history['val_loss'], label='Val Loss')\n",
        "plt.xlabel('Epochs')\n",
        "plt.ylabel('Loss')\n",
        "plt.legend()\n",
        "plt.title('Model Loss')\n",
        "\n",
        "plt.show()\n",
        "\n",
        "# =============================\n",
        "# 🔎 Predictions & Metrics\n",
        "# =============================\n",
        "\n",
        "# Get true labels and predictions\n",
        "y_true = val_gen.classes  # true labels\n",
        "y_pred_probs = model.predict(val_gen)  # predicted probabilities\n",
        "y_pred = (y_pred_probs > 0.5).astype(\"int32\").flatten()  # convert to 0/1\n",
        "\n",
        "# Confusion Matrix\n",
        "cm = confusion_matrix(y_true, y_pred)\n",
        "plt.figure(figsize=(6,4))\n",
        "sns.heatmap(cm, annot=True, fmt='d', cmap='Blues',\n",
        "            xticklabels=val_gen.class_indices.keys(),\n",
        "            yticklabels=val_gen.class_indices.keys())\n",
        "plt.xlabel('Predicted')\n",
        "plt.ylabel('True')\n",
        "plt.title('Confusion Matrix')\n",
        "plt.show()\n",
        "\n",
        "# Classification Report (Precision, Recall, F1, Support)\n",
        "print(\"Classification Report:\\n\")\n",
        "print(classification_report(y_true, y_pred, target_names=val_gen.class_indices.keys()))"
      ]
    },
    {
      "cell_type": "code",
      "execution_count": null,
      "metadata": {
        "id": "F382gNlFcSgO",
        "colab": {
          "base_uri": "https://localhost:8080/"
        },
        "outputId": "fcee3e6b-5029-4316-a7cf-9a795ea4139e"
      },
      "outputs": [
        {
          "output_type": "stream",
          "name": "stderr",
          "text": [
            "WARNING:absl:You are saving your model as an HDF5 file via `model.save()` or `keras.saving.save_model(model)`. This file format is considered legacy. We recommend using instead the native Keras format, e.g. `model.save('my_model.keras')` or `keras.saving.save_model(model, 'my_model.keras')`. \n"
          ]
        }
      ],
      "source": [
        "from tensorflow import keras\n",
        "model.save(\"Resnet50_All_Feature.h5\")"
      ]
    },
    {
      "cell_type": "code",
      "source": [],
      "metadata": {
        "id": "bwAzFvIav-7b"
      },
      "execution_count": null,
      "outputs": []
    },
    {
      "cell_type": "code",
      "source": [],
      "metadata": {
        "id": "jbWx8o08v--Z"
      },
      "execution_count": null,
      "outputs": []
    },
    {
      "cell_type": "code",
      "source": [],
      "metadata": {
        "id": "AkS8o4ZZv_Be"
      },
      "execution_count": null,
      "outputs": []
    },
    {
      "cell_type": "code",
      "source": [],
      "metadata": {
        "id": "BkcLHNglv_FH"
      },
      "execution_count": null,
      "outputs": []
    }
  ],
  "metadata": {
    "colab": {
      "provenance": [],
      "gpuType": "T4"
    },
    "kernelspec": {
      "display_name": "Python 3",
      "name": "python3"
    },
    "language_info": {
      "name": "python"
    },
    "accelerator": "GPU"
  },
  "nbformat": 4,
  "nbformat_minor": 0
}